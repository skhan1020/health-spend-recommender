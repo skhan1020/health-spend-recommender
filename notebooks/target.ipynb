{
 "cells": [
  {
   "cell_type": "code",
   "execution_count": 1,
   "metadata": {},
   "outputs": [],
   "source": [
    "import sqlite3\n",
    "import pandas as pd\n",
    "import numpy as np\n",
    "from copy import deepcopy\n",
    "import matplotlib.pyplot as plt\n",
    "import seaborn as sns\n",
    "from IPython.display import display"
   ]
  },
  {
   "cell_type": "code",
   "execution_count": 2,
   "metadata": {},
   "outputs": [],
   "source": [
    "conn = sqlite3.connect('fsa_new.db')\n",
    "cur = conn.cursor()"
   ]
  },
  {
   "cell_type": "markdown",
   "metadata": {},
   "source": [
    "# Defining the Target Variable : Amount\n",
    "\n",
    "## 1. 1 Filter Healthcare Related Expenses"
   ]
  },
  {
   "cell_type": "code",
   "execution_count": 3,
   "metadata": {},
   "outputs": [],
   "source": [
    "df_et = pd.read_sql_query('Select hashed_owner_id, pretax_category_truth_label, amount, date From Transactions', conn)\n",
    "df_et.rename({'hashed_owner_id':'emp_id', 'pretax_category_truth_label':'category'}, axis=1, inplace=True)\n",
    "\n",
    "# Convert amount to dollars from cents\n",
    "df_et['amount'] = np.float64(df_et['amount']/100)\n",
    "\n",
    "df_et['date'] = pd.to_datetime(df_et['date'])\n",
    "df_et['month_year'] = df_et['date'].dt.to_period('M')"
   ]
  },
  {
   "cell_type": "code",
   "execution_count": 4,
   "metadata": {},
   "outputs": [],
   "source": [
    "condition = (df_et['category'] == 'healthcare') | (df_et['category'] == 'vision') | (df_et['category'] == 'dental')\n",
    "df_et = df_et[condition]"
   ]
  },
  {
   "cell_type": "markdown",
   "metadata": {},
   "source": [
    "# 1. 2 Aggregate monthly transactions"
   ]
  },
  {
   "cell_type": "code",
   "execution_count": 5,
   "metadata": {},
   "outputs": [],
   "source": [
    "df1 = df_et[['emp_id', 'month_year', 'amount']]\n",
    "\n",
    "df2 = df1.groupby(['emp_id', 'month_year']).agg({'amount':'sum'}).reset_index()"
   ]
  },
  {
   "cell_type": "markdown",
   "metadata": {},
   "source": [
    "# 1. 3 Create Sliding Windows For Yearly Transactions"
   ]
  },
  {
   "cell_type": "code",
   "execution_count": 6,
   "metadata": {},
   "outputs": [],
   "source": [
    "#df2_copy = df2[df2['emp_id']== 'zpq952vtWYRshnAjfJ3S/fFQQ2mLiPj/fwyVnLHrLxw=']\n",
    "\n",
    "df3 = deepcopy(df2)\n",
    "\n",
    "df3['start_date'] = df3['month_year'].dt.strftime('%Y-%m').add('-01')\n",
    "\n",
    "df3['start_date'] = pd.to_datetime(df3['start_date'])\n",
    "df3['end_date'] = df3['start_date'] + pd.DateOffset(years=1)\n",
    "df3['date'] = df3['month_year'].dt.strftime('%Y-%m').add('-01')\n",
    "df3['date'] = pd.to_datetime(df3['date'])"
   ]
  },
  {
   "cell_type": "markdown",
   "metadata": {},
   "source": [
    "# 1. 4 Determine Last Date of Transaction for Each Employee"
   ]
  },
  {
   "cell_type": "code",
   "execution_count": 7,
   "metadata": {},
   "outputs": [],
   "source": [
    "df4 = df3[['emp_id', 'date']]\n",
    "\n",
    "df5 = deepcopy(df4)\n",
    "\n",
    "df5['max_date'] =  df5.groupby('emp_id')['date'].transform(max)\n",
    "df5.drop(columns=['date'], inplace=True)\n",
    "\n",
    "df6 = df3.merge(df5, on='emp_id', how='inner')\n",
    "df7  = df6.drop_duplicates()"
   ]
  },
  {
   "cell_type": "markdown",
   "metadata": {},
   "source": [
    "# 1. 5 Compute Average Yearly Transactions "
   ]
  },
  {
   "cell_type": "code",
   "execution_count": 8,
   "metadata": {},
   "outputs": [],
   "source": [
    "def groupby_rolling(grp_df):\n",
    "\n",
    "\n",
    "    df1 = grp_df.apply(lambda x : grp_df.loc[(grp_df.date >= x.start_date)\n",
    "        & (grp_df.date <=x.end_date), 'amount'].sum(), axis=1)\n",
    "    df2 = grp_df.apply(lambda x: grp_df.loc[(grp_df.date >= x.start_date) &\n",
    "                                            (grp_df.date <= x.end_date), 'amount'].count(), axis=1)\n",
    "\n",
    "    df3 = pd.DataFrame({'amountSum':df1, 'periodCount':df2, 'emp_id':grp_df['emp_id']})\n",
    "    \n",
    "    \n",
    "    df3['avg_amount'] = 12*df3['amountSum']/df3['periodCount']\n",
    "    df4 = df3.groupby('emp_id').agg({'avg_amount':'mean'}).reset_index()\n",
    "\n",
    "\n",
    "    return df4\n",
    "\n",
    "df8 = df7.groupby(\"emp_id\").apply(groupby_rolling).drop(columns=['emp_id']).reset_index().drop(columns=['level_1'])"
   ]
  },
  {
   "cell_type": "markdown",
   "metadata": {},
   "source": [
    "# 1. 6 Retain Transactions that are Non Negative and Below $3,000 (Max FSA)"
   ]
  },
  {
   "cell_type": "code",
   "execution_count": 9,
   "metadata": {},
   "outputs": [],
   "source": [
    "df8 = df8[(df8['avg_amount'] > 0) & (df8['avg_amount'] < 3000)]"
   ]
  },
  {
   "cell_type": "markdown",
   "metadata": {},
   "source": [
    "# 1. 7. Distribution of Yearly Transactions (Amount)"
   ]
  },
  {
   "cell_type": "code",
   "execution_count": 11,
   "metadata": {},
   "outputs": [
    {
     "data": {
      "image/png": "[encoded data removed]",
      "text/plain": [
       "<Figure size 576x432 with 1 Axes>"
      ]
     },
     "metadata": {
      "needs_background": "light"
     },
     "output_type": "display_data"
    }
   ],
   "source": [
    "plt.figure(figsize=(8, 6))\n",
    "plt.tight_layout()\n",
    "sns.distplot(df8['avg_amount'], bins=50)\n",
    "plt.show()"
   ]
  },
  {
   "cell_type": "markdown",
   "metadata": {},
   "source": [
    "# 1. 8 Employees with Zero Spend and 12 months of Transactions"
   ]
  },
  {
   "cell_type": "code",
   "execution_count": null,
   "metadata": {},
   "outputs": [],
   "source": [
    "df_et1 = pd.read_sql_query('Select hashed_owner_id, pretax_category_truth_label, amount, date From Transactions', conn)\n",
    "df_et1.rename({'hashed_owner_id':'emp_id', 'pretax_category_truth_label':'category'}, axis=1, inplace=True)\n",
    "    \n",
    "\n",
    "# Filter Healthcare Related Expenses\n",
    "condition = (df_et1['category'] == 'healthcare') | (df_et1['category'] == 'vision') | (df_et1['category'] == 'dental')\n",
    "df_et1 = df_et1[~condition]\n",
    "\n",
    "df_et1['date'] = pd.to_datetime(df_et1['date'])\n",
    "df_et1['year'] = pd.DatetimeIndex(df_et1['date']).year\n",
    "df_et1['month'] = pd.DatetimeIndex(df_et1['date']).month\n",
    "\n",
    "df1 = df_et1[['emp_id', 'month', 'year']]\n",
    "df2 = df1.drop_duplicates()"
   ]
  },
  {
   "cell_type": "markdown",
   "metadata": {},
   "source": [
    "## 1. 8. 1 Filter Employees with 12 months of Transactions"
   ]
  },
  {
   "cell_type": "code",
   "execution_count": null,
   "metadata": {},
   "outputs": [],
   "source": [
    "# Count the number of monthly transactions\n",
    "df3 = df2.groupby(['emp_id', 'year']).agg(transactions=('month', 'count')).reset_index()\n",
    "\n",
    "# Retain employees with at least 12  months of transaction data\n",
    "df3 =  df3[df3['transactions'] == 12]\n",
    "df3['amount'] = 0.0\n",
    "df3.drop(columns=['transactions', 'year'], inplace=True)\n",
    "\n",
    "nospend = df3.copy()"
   ]
  },
  {
   "cell_type": "markdown",
   "metadata": {},
   "source": [
    "# 1. 8 Group Transactions into Different Categories\n",
    "\n",
    "## 1. 8. 1 Breakpoints"
   ]
  },
  {
   "cell_type": "code",
   "execution_count": 24,
   "metadata": {},
   "outputs": [],
   "source": [
    "breakpoints = [750, 1500]; nclasses = 3 # Multi-Class Classification (0, 1, 2)"
   ]
  },
  {
   "cell_type": "markdown",
   "metadata": {},
   "source": [
    "## 1. 8. 2 Distribution of Classes"
   ]
  },
  {
   "cell_type": "code",
   "execution_count": null,
   "metadata": {},
   "outputs": [],
   "source": [
    "spend = df8.copy()\n",
    "\n",
    "df = spend[spend['avg_amount'] > 0]\n",
    "\n",
    "\n",
    "max_amt =  df['avg_amount'].describe()['max']\n",
    "breakpoints.insert(1, 0)\n",
    "breakpoints.append(max_amt)\n",
    "\n",
    "df['amount_range'] = pd.cut(df['avg_amount'], bins=sorted(breakpoints))\n",
    "df['target'] = df['amount_range'].apply(lambda x : x.mid)\n",
    "\n",
    "df.drop(columns=['avg_amount', 'amount_range'], inplace=True)\n",
    "df.rename({'target':'amount'}, axis=1, inplace=True)\n",
    "\n",
    "df['amount'] = np.float64(df['amount'])\n",
    "\n",
    "plt.figure(figsize=(8, 6))\n",
    "plt.tight_layout()\n",
    "sns.distplot(df['amount'], bins=50)\n",
    "plt.show()"
   ]
  },
  {
   "cell_type": "code",
   "execution_count": null,
   "metadata": {},
   "outputs": [],
   "source": [
    "print(\"Average Amount Spent Employees in each class\", df['amount'].unique())\n",
    "\n",
    "amt_vals = sorted(df['amount'].unique())\n",
    "diff = np.diff(amt_vals)\n",
    "threshold = 100\n",
    "for i, num in enumerate(diff):\n",
    "    if num < threshold:\n",
    "        df['amount'] = np.where(df['amount'] == amt_vals[i], amt_vals[i+1], df['amount'])\n",
    "        amt_vals.remove(amt_vals[i])\n",
    "\n",
    "print(\"Number of Employees in Each Class \", df['amount'].value_counts())\n",
    "\n",
    "class_labels = list(range(nclasses))\n",
    "df['amount'] = df['amount'].map(dict(zip(amt_vals, class_labels)))"
   ]
  },
  {
   "cell_type": "markdown",
   "metadata": {},
   "source": [
    "## 1. 8. 3 Include Zero Spend Employees"
   ]
  },
  {
   "cell_type": "code",
   "execution_count": null,
   "metadata": {},
   "outputs": [],
   "source": [
    "###### add_nospend = True\n",
    "\n",
    "if add_nospend ==  True:\n",
    "\n",
    "\n",
    "    df_spend0 = spend[spend['avg_amount'] == 0.0]\n",
    "\n",
    "    df2 = deepcopy(nospend)\n",
    "    df3 = deepcopy(df_spend0)\n",
    "    df3.rename({'avg_amount':'amount'}, axis=1, inplace=True)\n",
    "\n",
    "    df4 = pd.concat([df2,  df3])\n",
    "\n",
    "    df4['amount'] = min(class_labels)\n",
    "\n",
    "    df5 =  pd.concat([df,  df4])"
   ]
  }
 ],
 "metadata": {
  "kernelspec": {
   "display_name": "Python 3",
   "language": "python",
   "name": "python3"
  },
  "language_info": {
   "codemirror_mode": {
    "name": "ipython",
    "version": 3
   },
   "file_extension": ".py",
   "mimetype": "text/x-python",
   "name": "python",
   "nbconvert_exporter": "python",
   "pygments_lexer": "ipython3",
   "version": "3.7.6"
  }
 },
 "nbformat": 4,
 "nbformat_minor": 4
}
